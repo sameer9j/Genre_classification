{
 "cells": [
  {
   "cell_type": "code",
   "execution_count": 1,
   "metadata": {},
   "outputs": [],
   "source": [
    "import pandas as pd\n",
    "import numpy as np\n",
    "import os\n",
    "import glob\n",
    "import pickle\n",
    "import hdf5_getters"
   ]
  },
  {
   "cell_type": "markdown",
   "metadata": {},
   "source": [
    "## Get track path from the data and serialize (comment if you have the serialized list)"
   ]
  },
  {
   "cell_type": "code",
   "execution_count": 35,
   "metadata": {},
   "outputs": [],
   "source": [
    "# track_base_path = '/mnt/snap/data/'\n",
    "# tracks_path = os.listdir(track_base_path)\n",
    "# tracks_path = [track_base_path  + str(x) for x in tracks_path]\n",
    "# # for path in paths:\n",
    "# #     all_paths.append(os.listdir(path))\n",
    "\n",
    "# all_paths = []\n",
    "# for path in tracks_path:\n",
    "#     path_list = os.listdir(path)\n",
    "#     full_path = [path + '/' + str(x) for x in path_list]\n",
    "#     all_paths.append(full_path)\n",
    "\n",
    "\n",
    "# temp = []\n",
    "# tracks = []\n",
    "# for path in all_paths:\n",
    "#     for p2 in path:\n",
    "#         temp.append([p2 + '/' +x  for x in os.listdir(p2)])\n",
    "\n",
    "# for tp in temp:\n",
    "#     for i in tp:\n",
    "#         tracks.append(i)\n",
    "\n",
    "# track_path = []\n",
    "# for track in tracks:\n",
    "#     track_path.append([track + '/' + x for x in os.listdir(track)])\n",
    "    "
   ]
  },
  {
   "cell_type": "code",
   "execution_count": 34,
   "metadata": {},
   "outputs": [],
   "source": [
    "# track_paths_norm = []\n",
    "# for tp in track_path:\n",
    "#     for i in tp:\n",
    "#         track_paths_norm.append(i)"
   ]
  },
  {
   "cell_type": "code",
   "execution_count": 26,
   "metadata": {},
   "outputs": [],
   "source": [
    "# binary_file = open('tracks.bin',mode='wb')\n",
    "# my_pickled_mary = pickle.dump(track_paths_norm, binary_file)\n",
    "# binary_file.close()"
   ]
  },
  {
   "cell_type": "markdown",
   "metadata": {},
   "source": [
    "### Load from binary file"
   ]
  },
  {
   "cell_type": "code",
   "execution_count": 2,
   "metadata": {},
   "outputs": [],
   "source": [
    "with open(\"./tracks.bin\", \"rb\") as file:\n",
    "    track_paths_norm = pickle.load(file)"
   ]
  },
  {
   "cell_type": "code",
   "execution_count": 9,
   "metadata": {},
   "outputs": [
    {
     "name": "stdout",
     "output_type": "stream",
     "text": [
      "Opening /mnt/snap/data/C/C/C/TRCCCRP128F147BEFA.h5 in read-only mode\n",
      "['/analysis/songs', '/metadata/songs', '/musicbrainz/songs']\n"
     ]
    }
   ],
   "source": [
    "store = pd.HDFStore(track_paths_norm[0])\n",
    "keys = store.keys()\n",
    "print(keys)\n",
    "store.close()"
   ]
  },
  {
   "cell_type": "code",
   "execution_count": 7,
   "metadata": {},
   "outputs": [],
   "source": [
    "keys = ['/analysis/songs', '/metadata/songs', '/musicbrainz/songs']\n",
    "def create_complete_row(track):\n",
    "    df = pd.concat([pd.read_hdf(track, key=keys[0]), \n",
    "                    pd.read_hdf(track, key=keys[1]),\n",
    "                    pd.read_hdf(track, key=keys[2])], axis=1)\n",
    "    \n",
    "    return df"
   ]
  },
  {
   "cell_type": "code",
   "execution_count": null,
   "metadata": {},
   "outputs": [],
   "source": [
    "df_final = pd.DataFrame()\n",
    "count1 = 0\n",
    "count2 = 0\n",
    "for track in track_paths_norm:\n",
    "    count1 += 1\n",
    "    \n",
    "    df = create_complete_row(track)\n",
    "    h5 = hdf5_getters.open_h5_file_read(track)\n",
    "    pitch_df = pd.DataFrame(hdf5_getters.get_segments_pitches(h5).mean(axis=0)).T\n",
    "    pitch_df.columns = ['pitch_' + str(i) for i in range(12)]\n",
    "    timbre_df = pd.DataFrame(hdf5_getters.get_segments_timbre(h5).mean(axis=0)).T\n",
    "    timbre_df.columns = ['timbre_' + str(i) for i in range(12)]\n",
    "    df = pd.concat((df, pitch_df, timbre_df), axis=1)\n",
    "    df_final = df_final.append(df)\n",
    "    h5.close()\n",
    "    \n",
    "    if(count1 == 1000):\n",
    "        count2 += 1\n",
    "        df_final.to_csv(\"songs_\" + str(count2) + \".csv\")\n",
    "        count = 0\n",
    "        df_final = pd.DataFrame()\n"
   ]
  },
  {
   "cell_type": "code",
   "execution_count": 15,
   "metadata": {},
   "outputs": [
    {
     "data": {
      "text/plain": [
       "(595, 77)"
      ]
     },
     "execution_count": 15,
     "metadata": {},
     "output_type": "execute_result"
    }
   ],
   "source": [
    "df_final.shape"
   ]
  },
  {
   "cell_type": "code",
   "execution_count": 32,
   "metadata": {},
   "outputs": [],
   "source": [
    "df.to_csv('songs.csv')"
   ]
  },
  {
   "cell_type": "markdown",
   "metadata": {},
   "source": [
    "## Looking at tagtraum data"
   ]
  },
  {
   "cell_type": "code",
   "execution_count": 33,
   "metadata": {},
   "outputs": [],
   "source": [
    "addnl = pd.read_table('./data/tagtraum/msd_tagtraum_cd1.cls/msd_tagtraum_cd1.txt', sep='\\t', skiprows=7, names=['track_id', 'Tag1', 'Tag2'])"
   ]
  },
  {
   "cell_type": "code",
   "execution_count": 36,
   "metadata": {},
   "outputs": [],
   "source": [
    "df_m = df.merge(addnl, on='track_id')"
   ]
  },
  {
   "cell_type": "code",
   "execution_count": 45,
   "metadata": {},
   "outputs": [],
   "source": [
    "df_m.to_csv('songs_with_genre.csv')"
   ]
  }
 ],
 "metadata": {
  "kernelspec": {
   "display_name": "Python 3",
   "language": "python",
   "name": "python3"
  },
  "language_info": {
   "codemirror_mode": {
    "name": "ipython",
    "version": 3
   },
   "file_extension": ".py",
   "mimetype": "text/x-python",
   "name": "python",
   "nbconvert_exporter": "python",
   "pygments_lexer": "ipython3",
   "version": "3.7.0"
  }
 },
 "nbformat": 4,
 "nbformat_minor": 2
}
