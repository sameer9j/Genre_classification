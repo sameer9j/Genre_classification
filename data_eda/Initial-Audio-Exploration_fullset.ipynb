{
 "cells": [
  {
   "cell_type": "code",
   "execution_count": 1,
   "metadata": {},
   "outputs": [],
   "source": [
    "import pandas as pd\n",
    "import matplotlib.pyplot as plt"
   ]
  },
  {
   "cell_type": "code",
   "execution_count": 5,
   "metadata": {},
   "outputs": [],
   "source": [
    "songs = pd.read_csv(r'D:\\justi\\Documents\\audio.csv')\n",
    "addnl = pd.read_table('./data/tagtraum/msd_tagtraum_cd1.cls/msd_tagtraum_cd1.txt', sep='\\t', skiprows=7, names=['track_id', 'Tag1', 'Tag2'])"
   ]
  },
  {
   "cell_type": "code",
   "execution_count": 3,
   "metadata": {},
   "outputs": [],
   "source": [
    "df_m = songs.merge(addnl, on='track_id')"
   ]
  },
  {
   "cell_type": "code",
   "execution_count": 8,
   "metadata": {},
   "outputs": [
    {
     "data": {
      "text/plain": [
       "(41000, 81)"
      ]
     },
     "execution_count": 8,
     "metadata": {},
     "output_type": "execute_result"
    }
   ],
   "source": [
    "df_m = songs\n",
    "songs.shape"
   ]
  },
  {
   "cell_type": "code",
   "execution_count": 9,
   "metadata": {},
   "outputs": [
    {
     "data": {
      "text/plain": [
       "Unnamed: 0                                                       1\n",
       "Unnamed: 1                                                       0\n",
       "analysis_sample_rate                                         22050\n",
       "audio_md5                         6dd67592ca97754d3c7f611fa225d202\n",
       "danceability                                                     0\n",
       "duration                                                   149.942\n",
       "end_of_fade_in                                               0.125\n",
       "energy                                                           0\n",
       "idx_bars_confidence                                              0\n",
       "idx_bars_start                                                   0\n",
       "idx_beats_confidence                                             0\n",
       "idx_beats_start                                                  0\n",
       "idx_sections_confidence                                          0\n",
       "idx_sections_start                                               0\n",
       "idx_segments_confidence                                          0\n",
       "idx_segments_loudness_max                                        0\n",
       "idx_segments_loudness_max_time                                   0\n",
       "idx_segments_loudness_start                                      0\n",
       "idx_segments_pitches                                             0\n",
       "idx_segments_start                                               0\n",
       "idx_segments_timbre                                              0\n",
       "idx_tatums_confidence                                            0\n",
       "idx_tatums_start                                                 0\n",
       "key                                                              8\n",
       "key_confidence                                               0.743\n",
       "loudness                                                    -9.047\n",
       "mode                                                             1\n",
       "mode_confidence                                              0.572\n",
       "start_of_fade_out                                          142.861\n",
       "tempo                                                      158.292\n",
       "                                                ...               \n",
       "title                                                You Can't Win\n",
       "track_7digitalid                                           7159538\n",
       "idx_artist_mbtags                                                0\n",
       "year                                                          2002\n",
       "pitch_0                                                   0.462512\n",
       "pitch_1                                                   0.442391\n",
       "pitch_2                                                   0.305816\n",
       "pitch_3                                                   0.374619\n",
       "pitch_4                                                   0.219092\n",
       "pitch_5                                                    0.27635\n",
       "pitch_6                                                   0.243958\n",
       "pitch_7                                                   0.408814\n",
       "pitch_8                                                   0.500271\n",
       "pitch_9                                                   0.289921\n",
       "pitch_10                                                  0.363001\n",
       "pitch_11                                                  0.258276\n",
       "timbre_0                                                   42.2691\n",
       "timbre_1                                                   -61.285\n",
       "timbre_2                                                  -12.7868\n",
       "timbre_3                                                   22.9145\n",
       "timbre_4                                                  -17.4806\n",
       "timbre_5                                                    17.264\n",
       "timbre_6                                                  -17.5805\n",
       "timbre_7                                                  -17.9369\n",
       "timbre_8                                                   8.63393\n",
       "timbre_9                                                   -13.548\n",
       "timbre_10                                                  6.28746\n",
       "timbre_11                                                  11.2512\n",
       "Tag1                                                        Reggae\n",
       "Tag2                                                           NaN\n",
       "Name: 1, Length: 81, dtype: object"
      ]
     },
     "execution_count": 9,
     "metadata": {},
     "output_type": "execute_result"
    }
   ],
   "source": [
    "df_m.iloc[1,:]"
   ]
  },
  {
   "cell_type": "markdown",
   "metadata": {},
   "source": [
    "There are several categoricals that should be removed as they are not appropriate for the analysis we want to calculate. For example, track names, artist name and album name are all unuseful. Additionally, everything with an\n",
    "idx label can be dropped as the data is incomplete. Finally, any value that does not change can be removed."
   ]
  },
  {
   "cell_type": "code",
   "execution_count": 10,
   "metadata": {},
   "outputs": [],
   "source": [
    "df_m.drop(columns = ['Unnamed: 0','genre', 'artist_mbid', 'artist_name','release', 'release_7digitalid', 'audio_md5', 'track_id',\n",
    "                     'song_id', 'title', 'track_7digitalid', 'Tag2', 'artist_id', 'artist_7digitalid', 'artist_playmeid'], inplace = True)"
   ]
  },
  {
   "cell_type": "code",
   "execution_count": 7,
   "metadata": {},
   "outputs": [
    {
     "data": {
      "text/html": [
       "<div>\n",
       "<style scoped>\n",
       "    .dataframe tbody tr th:only-of-type {\n",
       "        vertical-align: middle;\n",
       "    }\n",
       "\n",
       "    .dataframe tbody tr th {\n",
       "        vertical-align: top;\n",
       "    }\n",
       "\n",
       "    .dataframe thead th {\n",
       "        text-align: right;\n",
       "    }\n",
       "</style>\n",
       "<table border=\"1\" class=\"dataframe\">\n",
       "  <thead>\n",
       "    <tr style=\"text-align: right;\">\n",
       "      <th></th>\n",
       "      <th>analysis_sample_rate</th>\n",
       "      <th>danceability</th>\n",
       "      <th>duration</th>\n",
       "      <th>end_of_fade_in</th>\n",
       "      <th>energy</th>\n",
       "      <th>key</th>\n",
       "      <th>key_confidence</th>\n",
       "      <th>loudness</th>\n",
       "      <th>mode</th>\n",
       "      <th>mode_confidence</th>\n",
       "      <th>...</th>\n",
       "      <th>time_signature_confidence</th>\n",
       "      <th>analyzer_version</th>\n",
       "      <th>artist_familiarity</th>\n",
       "      <th>artist_hotttnesss</th>\n",
       "      <th>artist_latitude</th>\n",
       "      <th>artist_location</th>\n",
       "      <th>artist_longitude</th>\n",
       "      <th>song_hotttnesss</th>\n",
       "      <th>year</th>\n",
       "      <th>Tag1</th>\n",
       "    </tr>\n",
       "  </thead>\n",
       "  <tbody>\n",
       "    <tr>\n",
       "      <th>0</th>\n",
       "      <td>22050</td>\n",
       "      <td>0.0</td>\n",
       "      <td>211.59138</td>\n",
       "      <td>0.000</td>\n",
       "      <td>0.0</td>\n",
       "      <td>7</td>\n",
       "      <td>0.488</td>\n",
       "      <td>-7.446</td>\n",
       "      <td>1</td>\n",
       "      <td>0.677</td>\n",
       "      <td>...</td>\n",
       "      <td>0.778</td>\n",
       "      <td>NaN</td>\n",
       "      <td>0.531736</td>\n",
       "      <td>0.409133</td>\n",
       "      <td>57.15382</td>\n",
       "      <td>Aberdeen, Scotland</td>\n",
       "      <td>-2.10679</td>\n",
       "      <td>NaN</td>\n",
       "      <td>1997</td>\n",
       "      <td>Pop_Rock</td>\n",
       "    </tr>\n",
       "    <tr>\n",
       "      <th>1</th>\n",
       "      <td>22050</td>\n",
       "      <td>0.0</td>\n",
       "      <td>222.87628</td>\n",
       "      <td>0.000</td>\n",
       "      <td>0.0</td>\n",
       "      <td>3</td>\n",
       "      <td>0.893</td>\n",
       "      <td>-10.210</td>\n",
       "      <td>1</td>\n",
       "      <td>0.631</td>\n",
       "      <td>...</td>\n",
       "      <td>0.271</td>\n",
       "      <td>NaN</td>\n",
       "      <td>0.818745</td>\n",
       "      <td>0.539509</td>\n",
       "      <td>37.77916</td>\n",
       "      <td>San Francisco, California</td>\n",
       "      <td>-122.42005</td>\n",
       "      <td>NaN</td>\n",
       "      <td>1966</td>\n",
       "      <td>Pop_Rock</td>\n",
       "    </tr>\n",
       "    <tr>\n",
       "      <th>2</th>\n",
       "      <td>22050</td>\n",
       "      <td>0.0</td>\n",
       "      <td>193.93261</td>\n",
       "      <td>0.984</td>\n",
       "      <td>0.0</td>\n",
       "      <td>10</td>\n",
       "      <td>0.413</td>\n",
       "      <td>-9.923</td>\n",
       "      <td>1</td>\n",
       "      <td>0.448</td>\n",
       "      <td>...</td>\n",
       "      <td>1.000</td>\n",
       "      <td>NaN</td>\n",
       "      <td>0.815650</td>\n",
       "      <td>0.590374</td>\n",
       "      <td>NaN</td>\n",
       "      <td>NaN</td>\n",
       "      <td>NaN</td>\n",
       "      <td>NaN</td>\n",
       "      <td>2005</td>\n",
       "      <td>Electronic</td>\n",
       "    </tr>\n",
       "    <tr>\n",
       "      <th>3</th>\n",
       "      <td>22050</td>\n",
       "      <td>0.0</td>\n",
       "      <td>180.55791</td>\n",
       "      <td>0.472</td>\n",
       "      <td>0.0</td>\n",
       "      <td>7</td>\n",
       "      <td>0.620</td>\n",
       "      <td>-10.738</td>\n",
       "      <td>1</td>\n",
       "      <td>0.521</td>\n",
       "      <td>...</td>\n",
       "      <td>0.000</td>\n",
       "      <td>NaN</td>\n",
       "      <td>0.743284</td>\n",
       "      <td>0.461002</td>\n",
       "      <td>NaN</td>\n",
       "      <td>NaN</td>\n",
       "      <td>NaN</td>\n",
       "      <td>0.447136</td>\n",
       "      <td>1993</td>\n",
       "      <td>Pop_Rock</td>\n",
       "    </tr>\n",
       "    <tr>\n",
       "      <th>4</th>\n",
       "      <td>22050</td>\n",
       "      <td>0.0</td>\n",
       "      <td>280.21506</td>\n",
       "      <td>0.238</td>\n",
       "      <td>0.0</td>\n",
       "      <td>5</td>\n",
       "      <td>0.555</td>\n",
       "      <td>-3.306</td>\n",
       "      <td>1</td>\n",
       "      <td>0.500</td>\n",
       "      <td>...</td>\n",
       "      <td>0.120</td>\n",
       "      <td>NaN</td>\n",
       "      <td>0.780462</td>\n",
       "      <td>0.574275</td>\n",
       "      <td>NaN</td>\n",
       "      <td>Atlanta, GA</td>\n",
       "      <td>NaN</td>\n",
       "      <td>0.597641</td>\n",
       "      <td>2001</td>\n",
       "      <td>Pop_Rock</td>\n",
       "    </tr>\n",
       "  </tbody>\n",
       "</table>\n",
       "<p>5 rows × 23 columns</p>\n",
       "</div>"
      ],
      "text/plain": [
       "   analysis_sample_rate  danceability   duration  end_of_fade_in  energy  key  \\\n",
       "0                 22050           0.0  211.59138           0.000     0.0    7   \n",
       "1                 22050           0.0  222.87628           0.000     0.0    3   \n",
       "2                 22050           0.0  193.93261           0.984     0.0   10   \n",
       "3                 22050           0.0  180.55791           0.472     0.0    7   \n",
       "4                 22050           0.0  280.21506           0.238     0.0    5   \n",
       "\n",
       "   key_confidence  loudness  mode  mode_confidence     ...      \\\n",
       "0           0.488    -7.446     1            0.677     ...       \n",
       "1           0.893   -10.210     1            0.631     ...       \n",
       "2           0.413    -9.923     1            0.448     ...       \n",
       "3           0.620   -10.738     1            0.521     ...       \n",
       "4           0.555    -3.306     1            0.500     ...       \n",
       "\n",
       "   time_signature_confidence  analyzer_version  artist_familiarity  \\\n",
       "0                      0.778               NaN            0.531736   \n",
       "1                      0.271               NaN            0.818745   \n",
       "2                      1.000               NaN            0.815650   \n",
       "3                      0.000               NaN            0.743284   \n",
       "4                      0.120               NaN            0.780462   \n",
       "\n",
       "   artist_hotttnesss  artist_latitude            artist_location  \\\n",
       "0           0.409133         57.15382         Aberdeen, Scotland   \n",
       "1           0.539509         37.77916  San Francisco, California   \n",
       "2           0.590374              NaN                        NaN   \n",
       "3           0.461002              NaN                        NaN   \n",
       "4           0.574275              NaN                Atlanta, GA   \n",
       "\n",
       "   artist_longitude  song_hotttnesss  year        Tag1  \n",
       "0          -2.10679              NaN  1997    Pop_Rock  \n",
       "1        -122.42005              NaN  1966    Pop_Rock  \n",
       "2               NaN              NaN  2005  Electronic  \n",
       "3               NaN         0.447136  1993    Pop_Rock  \n",
       "4               NaN         0.597641  2001    Pop_Rock  \n",
       "\n",
       "[5 rows x 23 columns]"
      ]
     },
     "execution_count": 7,
     "metadata": {},
     "output_type": "execute_result"
    }
   ],
   "source": [
    "cols = [c for c in df_m.columns if c[0:3] != 'idx']\n",
    "df_m=df_m[cols]\n",
    "df_m.head()"
   ]
  },
  {
   "cell_type": "code",
   "execution_count": 11,
   "metadata": {},
   "outputs": [
    {
     "data": {
      "text/html": [
       "<div>\n",
       "<style scoped>\n",
       "    .dataframe tbody tr th:only-of-type {\n",
       "        vertical-align: middle;\n",
       "    }\n",
       "\n",
       "    .dataframe tbody tr th {\n",
       "        vertical-align: top;\n",
       "    }\n",
       "\n",
       "    .dataframe thead th {\n",
       "        text-align: right;\n",
       "    }\n",
       "</style>\n",
       "<table border=\"1\" class=\"dataframe\">\n",
       "  <thead>\n",
       "    <tr style=\"text-align: right;\">\n",
       "      <th></th>\n",
       "      <th>duration</th>\n",
       "      <th>end_of_fade_in</th>\n",
       "      <th>key</th>\n",
       "      <th>key_confidence</th>\n",
       "      <th>loudness</th>\n",
       "      <th>mode</th>\n",
       "      <th>mode_confidence</th>\n",
       "      <th>start_of_fade_out</th>\n",
       "      <th>tempo</th>\n",
       "      <th>time_signature</th>\n",
       "      <th>...</th>\n",
       "      <th>timbre_3</th>\n",
       "      <th>timbre_4</th>\n",
       "      <th>timbre_5</th>\n",
       "      <th>timbre_6</th>\n",
       "      <th>timbre_7</th>\n",
       "      <th>timbre_8</th>\n",
       "      <th>timbre_9</th>\n",
       "      <th>timbre_10</th>\n",
       "      <th>timbre_11</th>\n",
       "      <th>Tag1</th>\n",
       "    </tr>\n",
       "  </thead>\n",
       "  <tbody>\n",
       "    <tr>\n",
       "      <th>0</th>\n",
       "      <td>354.48118</td>\n",
       "      <td>2.090</td>\n",
       "      <td>9</td>\n",
       "      <td>0.721</td>\n",
       "      <td>-8.413</td>\n",
       "      <td>1</td>\n",
       "      <td>0.628</td>\n",
       "      <td>344.108</td>\n",
       "      <td>154.238</td>\n",
       "      <td>4</td>\n",
       "      <td>...</td>\n",
       "      <td>-12.591367</td>\n",
       "      <td>-44.293892</td>\n",
       "      <td>-9.339179</td>\n",
       "      <td>1.056260</td>\n",
       "      <td>-5.776037</td>\n",
       "      <td>-0.371761</td>\n",
       "      <td>1.495389</td>\n",
       "      <td>-3.848946</td>\n",
       "      <td>3.408958</td>\n",
       "      <td>Metal</td>\n",
       "    </tr>\n",
       "    <tr>\n",
       "      <th>1</th>\n",
       "      <td>149.94240</td>\n",
       "      <td>0.125</td>\n",
       "      <td>8</td>\n",
       "      <td>0.743</td>\n",
       "      <td>-9.047</td>\n",
       "      <td>1</td>\n",
       "      <td>0.572</td>\n",
       "      <td>142.861</td>\n",
       "      <td>158.292</td>\n",
       "      <td>4</td>\n",
       "      <td>...</td>\n",
       "      <td>22.914455</td>\n",
       "      <td>-17.480633</td>\n",
       "      <td>17.263987</td>\n",
       "      <td>-17.580544</td>\n",
       "      <td>-17.936875</td>\n",
       "      <td>8.633928</td>\n",
       "      <td>-13.547967</td>\n",
       "      <td>6.287460</td>\n",
       "      <td>11.251171</td>\n",
       "      <td>Reggae</td>\n",
       "    </tr>\n",
       "    <tr>\n",
       "      <th>2</th>\n",
       "      <td>277.36771</td>\n",
       "      <td>0.337</td>\n",
       "      <td>8</td>\n",
       "      <td>0.905</td>\n",
       "      <td>-8.524</td>\n",
       "      <td>1</td>\n",
       "      <td>0.742</td>\n",
       "      <td>269.189</td>\n",
       "      <td>115.760</td>\n",
       "      <td>4</td>\n",
       "      <td>...</td>\n",
       "      <td>13.774541</td>\n",
       "      <td>2.580982</td>\n",
       "      <td>11.298542</td>\n",
       "      <td>10.419430</td>\n",
       "      <td>7.336860</td>\n",
       "      <td>6.748059</td>\n",
       "      <td>6.381776</td>\n",
       "      <td>-2.017867</td>\n",
       "      <td>3.545710</td>\n",
       "      <td>Rock</td>\n",
       "    </tr>\n",
       "    <tr>\n",
       "      <th>3</th>\n",
       "      <td>243.66975</td>\n",
       "      <td>0.000</td>\n",
       "      <td>5</td>\n",
       "      <td>0.004</td>\n",
       "      <td>-5.955</td>\n",
       "      <td>1</td>\n",
       "      <td>0.252</td>\n",
       "      <td>236.832</td>\n",
       "      <td>92.471</td>\n",
       "      <td>3</td>\n",
       "      <td>...</td>\n",
       "      <td>-1.522568</td>\n",
       "      <td>-38.959342</td>\n",
       "      <td>3.488617</td>\n",
       "      <td>-20.363588</td>\n",
       "      <td>-1.984596</td>\n",
       "      <td>8.714976</td>\n",
       "      <td>1.564731</td>\n",
       "      <td>0.980308</td>\n",
       "      <td>6.970074</td>\n",
       "      <td>Blues</td>\n",
       "    </tr>\n",
       "    <tr>\n",
       "      <th>4</th>\n",
       "      <td>241.76281</td>\n",
       "      <td>1.013</td>\n",
       "      <td>9</td>\n",
       "      <td>0.000</td>\n",
       "      <td>-4.265</td>\n",
       "      <td>1</td>\n",
       "      <td>0.280</td>\n",
       "      <td>228.223</td>\n",
       "      <td>90.206</td>\n",
       "      <td>4</td>\n",
       "      <td>...</td>\n",
       "      <td>-2.802598</td>\n",
       "      <td>9.080180</td>\n",
       "      <td>-19.506204</td>\n",
       "      <td>5.333402</td>\n",
       "      <td>-3.767534</td>\n",
       "      <td>-1.610557</td>\n",
       "      <td>-5.408886</td>\n",
       "      <td>0.984205</td>\n",
       "      <td>6.117556</td>\n",
       "      <td>Rock</td>\n",
       "    </tr>\n",
       "  </tbody>\n",
       "</table>\n",
       "<p>5 rows × 43 columns</p>\n",
       "</div>"
      ],
      "text/plain": [
       "    duration  end_of_fade_in  key  key_confidence  loudness  mode  \\\n",
       "0  354.48118           2.090    9           0.721    -8.413     1   \n",
       "1  149.94240           0.125    8           0.743    -9.047     1   \n",
       "2  277.36771           0.337    8           0.905    -8.524     1   \n",
       "3  243.66975           0.000    5           0.004    -5.955     1   \n",
       "4  241.76281           1.013    9           0.000    -4.265     1   \n",
       "\n",
       "   mode_confidence  start_of_fade_out    tempo  time_signature   ...    \\\n",
       "0            0.628            344.108  154.238               4   ...     \n",
       "1            0.572            142.861  158.292               4   ...     \n",
       "2            0.742            269.189  115.760               4   ...     \n",
       "3            0.252            236.832   92.471               3   ...     \n",
       "4            0.280            228.223   90.206               4   ...     \n",
       "\n",
       "    timbre_3   timbre_4   timbre_5   timbre_6   timbre_7  timbre_8   timbre_9  \\\n",
       "0 -12.591367 -44.293892  -9.339179   1.056260  -5.776037 -0.371761   1.495389   \n",
       "1  22.914455 -17.480633  17.263987 -17.580544 -17.936875  8.633928 -13.547967   \n",
       "2  13.774541   2.580982  11.298542  10.419430   7.336860  6.748059   6.381776   \n",
       "3  -1.522568 -38.959342   3.488617 -20.363588  -1.984596  8.714976   1.564731   \n",
       "4  -2.802598   9.080180 -19.506204   5.333402  -3.767534 -1.610557  -5.408886   \n",
       "\n",
       "   timbre_10  timbre_11    Tag1  \n",
       "0  -3.848946   3.408958   Metal  \n",
       "1   6.287460  11.251171  Reggae  \n",
       "2  -2.017867   3.545710    Rock  \n",
       "3   0.980308   6.970074   Blues  \n",
       "4   0.984205   6.117556    Rock  \n",
       "\n",
       "[5 rows x 43 columns]"
      ]
     },
     "execution_count": 11,
     "metadata": {},
     "output_type": "execute_result"
    }
   ],
   "source": [
    "cols = [c for c in df_m.columns if df_m[c].nunique() >1]\n",
    "df_m=df_m[cols]\n",
    "df_m.head()"
   ]
  },
  {
   "cell_type": "code",
   "execution_count": 12,
   "metadata": {},
   "outputs": [
    {
     "data": {
      "text/plain": [
       "(41000, 43)"
      ]
     },
     "execution_count": 12,
     "metadata": {},
     "output_type": "execute_result"
    }
   ],
   "source": [
    "df_m.shape"
   ]
  },
  {
   "cell_type": "markdown",
   "metadata": {},
   "source": [
    "The artist features should also be dropped. The analysis here is using song information."
   ]
  },
  {
   "cell_type": "code",
   "execution_count": 13,
   "metadata": {},
   "outputs": [
    {
     "data": {
      "text/html": [
       "<div>\n",
       "<style scoped>\n",
       "    .dataframe tbody tr th:only-of-type {\n",
       "        vertical-align: middle;\n",
       "    }\n",
       "\n",
       "    .dataframe tbody tr th {\n",
       "        vertical-align: top;\n",
       "    }\n",
       "\n",
       "    .dataframe thead th {\n",
       "        text-align: right;\n",
       "    }\n",
       "</style>\n",
       "<table border=\"1\" class=\"dataframe\">\n",
       "  <thead>\n",
       "    <tr style=\"text-align: right;\">\n",
       "      <th></th>\n",
       "      <th>duration</th>\n",
       "      <th>end_of_fade_in</th>\n",
       "      <th>key</th>\n",
       "      <th>key_confidence</th>\n",
       "      <th>loudness</th>\n",
       "      <th>mode</th>\n",
       "      <th>mode_confidence</th>\n",
       "      <th>start_of_fade_out</th>\n",
       "      <th>tempo</th>\n",
       "      <th>time_signature</th>\n",
       "      <th>...</th>\n",
       "      <th>timbre_3</th>\n",
       "      <th>timbre_4</th>\n",
       "      <th>timbre_5</th>\n",
       "      <th>timbre_6</th>\n",
       "      <th>timbre_7</th>\n",
       "      <th>timbre_8</th>\n",
       "      <th>timbre_9</th>\n",
       "      <th>timbre_10</th>\n",
       "      <th>timbre_11</th>\n",
       "      <th>Tag1</th>\n",
       "    </tr>\n",
       "  </thead>\n",
       "  <tbody>\n",
       "    <tr>\n",
       "      <th>0</th>\n",
       "      <td>354.48118</td>\n",
       "      <td>2.090</td>\n",
       "      <td>9</td>\n",
       "      <td>0.721</td>\n",
       "      <td>-8.413</td>\n",
       "      <td>1</td>\n",
       "      <td>0.628</td>\n",
       "      <td>344.108</td>\n",
       "      <td>154.238</td>\n",
       "      <td>4</td>\n",
       "      <td>...</td>\n",
       "      <td>-12.591367</td>\n",
       "      <td>-44.293892</td>\n",
       "      <td>-9.339179</td>\n",
       "      <td>1.056260</td>\n",
       "      <td>-5.776037</td>\n",
       "      <td>-0.371761</td>\n",
       "      <td>1.495389</td>\n",
       "      <td>-3.848946</td>\n",
       "      <td>3.408958</td>\n",
       "      <td>Metal</td>\n",
       "    </tr>\n",
       "    <tr>\n",
       "      <th>1</th>\n",
       "      <td>149.94240</td>\n",
       "      <td>0.125</td>\n",
       "      <td>8</td>\n",
       "      <td>0.743</td>\n",
       "      <td>-9.047</td>\n",
       "      <td>1</td>\n",
       "      <td>0.572</td>\n",
       "      <td>142.861</td>\n",
       "      <td>158.292</td>\n",
       "      <td>4</td>\n",
       "      <td>...</td>\n",
       "      <td>22.914455</td>\n",
       "      <td>-17.480633</td>\n",
       "      <td>17.263987</td>\n",
       "      <td>-17.580544</td>\n",
       "      <td>-17.936875</td>\n",
       "      <td>8.633928</td>\n",
       "      <td>-13.547967</td>\n",
       "      <td>6.287460</td>\n",
       "      <td>11.251171</td>\n",
       "      <td>Reggae</td>\n",
       "    </tr>\n",
       "    <tr>\n",
       "      <th>2</th>\n",
       "      <td>277.36771</td>\n",
       "      <td>0.337</td>\n",
       "      <td>8</td>\n",
       "      <td>0.905</td>\n",
       "      <td>-8.524</td>\n",
       "      <td>1</td>\n",
       "      <td>0.742</td>\n",
       "      <td>269.189</td>\n",
       "      <td>115.760</td>\n",
       "      <td>4</td>\n",
       "      <td>...</td>\n",
       "      <td>13.774541</td>\n",
       "      <td>2.580982</td>\n",
       "      <td>11.298542</td>\n",
       "      <td>10.419430</td>\n",
       "      <td>7.336860</td>\n",
       "      <td>6.748059</td>\n",
       "      <td>6.381776</td>\n",
       "      <td>-2.017867</td>\n",
       "      <td>3.545710</td>\n",
       "      <td>Rock</td>\n",
       "    </tr>\n",
       "    <tr>\n",
       "      <th>3</th>\n",
       "      <td>243.66975</td>\n",
       "      <td>0.000</td>\n",
       "      <td>5</td>\n",
       "      <td>0.004</td>\n",
       "      <td>-5.955</td>\n",
       "      <td>1</td>\n",
       "      <td>0.252</td>\n",
       "      <td>236.832</td>\n",
       "      <td>92.471</td>\n",
       "      <td>3</td>\n",
       "      <td>...</td>\n",
       "      <td>-1.522568</td>\n",
       "      <td>-38.959342</td>\n",
       "      <td>3.488617</td>\n",
       "      <td>-20.363588</td>\n",
       "      <td>-1.984596</td>\n",
       "      <td>8.714976</td>\n",
       "      <td>1.564731</td>\n",
       "      <td>0.980308</td>\n",
       "      <td>6.970074</td>\n",
       "      <td>Blues</td>\n",
       "    </tr>\n",
       "    <tr>\n",
       "      <th>4</th>\n",
       "      <td>241.76281</td>\n",
       "      <td>1.013</td>\n",
       "      <td>9</td>\n",
       "      <td>0.000</td>\n",
       "      <td>-4.265</td>\n",
       "      <td>1</td>\n",
       "      <td>0.280</td>\n",
       "      <td>228.223</td>\n",
       "      <td>90.206</td>\n",
       "      <td>4</td>\n",
       "      <td>...</td>\n",
       "      <td>-2.802598</td>\n",
       "      <td>9.080180</td>\n",
       "      <td>-19.506204</td>\n",
       "      <td>5.333402</td>\n",
       "      <td>-3.767534</td>\n",
       "      <td>-1.610557</td>\n",
       "      <td>-5.408886</td>\n",
       "      <td>0.984205</td>\n",
       "      <td>6.117556</td>\n",
       "      <td>Rock</td>\n",
       "    </tr>\n",
       "  </tbody>\n",
       "</table>\n",
       "<p>5 rows × 38 columns</p>\n",
       "</div>"
      ],
      "text/plain": [
       "    duration  end_of_fade_in  key  key_confidence  loudness  mode  \\\n",
       "0  354.48118           2.090    9           0.721    -8.413     1   \n",
       "1  149.94240           0.125    8           0.743    -9.047     1   \n",
       "2  277.36771           0.337    8           0.905    -8.524     1   \n",
       "3  243.66975           0.000    5           0.004    -5.955     1   \n",
       "4  241.76281           1.013    9           0.000    -4.265     1   \n",
       "\n",
       "   mode_confidence  start_of_fade_out    tempo  time_signature   ...    \\\n",
       "0            0.628            344.108  154.238               4   ...     \n",
       "1            0.572            142.861  158.292               4   ...     \n",
       "2            0.742            269.189  115.760               4   ...     \n",
       "3            0.252            236.832   92.471               3   ...     \n",
       "4            0.280            228.223   90.206               4   ...     \n",
       "\n",
       "    timbre_3   timbre_4   timbre_5   timbre_6   timbre_7  timbre_8   timbre_9  \\\n",
       "0 -12.591367 -44.293892  -9.339179   1.056260  -5.776037 -0.371761   1.495389   \n",
       "1  22.914455 -17.480633  17.263987 -17.580544 -17.936875  8.633928 -13.547967   \n",
       "2  13.774541   2.580982  11.298542  10.419430   7.336860  6.748059   6.381776   \n",
       "3  -1.522568 -38.959342   3.488617 -20.363588  -1.984596  8.714976   1.564731   \n",
       "4  -2.802598   9.080180 -19.506204   5.333402  -3.767534 -1.610557  -5.408886   \n",
       "\n",
       "   timbre_10  timbre_11    Tag1  \n",
       "0  -3.848946   3.408958   Metal  \n",
       "1   6.287460  11.251171  Reggae  \n",
       "2  -2.017867   3.545710    Rock  \n",
       "3   0.980308   6.970074   Blues  \n",
       "4   0.984205   6.117556    Rock  \n",
       "\n",
       "[5 rows x 38 columns]"
      ]
     },
     "execution_count": 13,
     "metadata": {},
     "output_type": "execute_result"
    }
   ],
   "source": [
    "cols = [c for c in df_m.columns if c[0:6] != 'artist']\n",
    "df_m=df_m[cols]\n",
    "df_m.head()"
   ]
  },
  {
   "cell_type": "markdown",
   "metadata": {},
   "source": [
    "Finally. While they aren't necessarily out of the scope of the analysis. Given that this objective is meant to be used as a tool to predict new songs it seems the information provided cannot be used so they will be dropped"
   ]
  },
  {
   "cell_type": "code",
   "execution_count": 14,
   "metadata": {},
   "outputs": [],
   "source": [
    "df_m.drop(columns = ['song_hotttnesss', 'year'], inplace = True)"
   ]
  },
  {
   "cell_type": "code",
   "execution_count": 15,
   "metadata": {},
   "outputs": [
    {
     "data": {
      "text/html": [
       "<div>\n",
       "<style scoped>\n",
       "    .dataframe tbody tr th:only-of-type {\n",
       "        vertical-align: middle;\n",
       "    }\n",
       "\n",
       "    .dataframe tbody tr th {\n",
       "        vertical-align: top;\n",
       "    }\n",
       "\n",
       "    .dataframe thead th {\n",
       "        text-align: right;\n",
       "    }\n",
       "</style>\n",
       "<table border=\"1\" class=\"dataframe\">\n",
       "  <thead>\n",
       "    <tr style=\"text-align: right;\">\n",
       "      <th></th>\n",
       "      <th>duration</th>\n",
       "      <th>end_of_fade_in</th>\n",
       "      <th>key</th>\n",
       "      <th>key_confidence</th>\n",
       "      <th>loudness</th>\n",
       "      <th>mode</th>\n",
       "      <th>mode_confidence</th>\n",
       "      <th>start_of_fade_out</th>\n",
       "      <th>tempo</th>\n",
       "      <th>time_signature</th>\n",
       "      <th>...</th>\n",
       "      <th>timbre_3</th>\n",
       "      <th>timbre_4</th>\n",
       "      <th>timbre_5</th>\n",
       "      <th>timbre_6</th>\n",
       "      <th>timbre_7</th>\n",
       "      <th>timbre_8</th>\n",
       "      <th>timbre_9</th>\n",
       "      <th>timbre_10</th>\n",
       "      <th>timbre_11</th>\n",
       "      <th>Tag1</th>\n",
       "    </tr>\n",
       "  </thead>\n",
       "  <tbody>\n",
       "    <tr>\n",
       "      <th>0</th>\n",
       "      <td>354.48118</td>\n",
       "      <td>2.090</td>\n",
       "      <td>9</td>\n",
       "      <td>0.721</td>\n",
       "      <td>-8.413</td>\n",
       "      <td>1</td>\n",
       "      <td>0.628</td>\n",
       "      <td>344.108</td>\n",
       "      <td>154.238</td>\n",
       "      <td>4</td>\n",
       "      <td>...</td>\n",
       "      <td>-12.591367</td>\n",
       "      <td>-44.293892</td>\n",
       "      <td>-9.339179</td>\n",
       "      <td>1.056260</td>\n",
       "      <td>-5.776037</td>\n",
       "      <td>-0.371761</td>\n",
       "      <td>1.495389</td>\n",
       "      <td>-3.848946</td>\n",
       "      <td>3.408958</td>\n",
       "      <td>Metal</td>\n",
       "    </tr>\n",
       "    <tr>\n",
       "      <th>1</th>\n",
       "      <td>149.94240</td>\n",
       "      <td>0.125</td>\n",
       "      <td>8</td>\n",
       "      <td>0.743</td>\n",
       "      <td>-9.047</td>\n",
       "      <td>1</td>\n",
       "      <td>0.572</td>\n",
       "      <td>142.861</td>\n",
       "      <td>158.292</td>\n",
       "      <td>4</td>\n",
       "      <td>...</td>\n",
       "      <td>22.914455</td>\n",
       "      <td>-17.480633</td>\n",
       "      <td>17.263987</td>\n",
       "      <td>-17.580544</td>\n",
       "      <td>-17.936875</td>\n",
       "      <td>8.633928</td>\n",
       "      <td>-13.547967</td>\n",
       "      <td>6.287460</td>\n",
       "      <td>11.251171</td>\n",
       "      <td>Reggae</td>\n",
       "    </tr>\n",
       "    <tr>\n",
       "      <th>2</th>\n",
       "      <td>277.36771</td>\n",
       "      <td>0.337</td>\n",
       "      <td>8</td>\n",
       "      <td>0.905</td>\n",
       "      <td>-8.524</td>\n",
       "      <td>1</td>\n",
       "      <td>0.742</td>\n",
       "      <td>269.189</td>\n",
       "      <td>115.760</td>\n",
       "      <td>4</td>\n",
       "      <td>...</td>\n",
       "      <td>13.774541</td>\n",
       "      <td>2.580982</td>\n",
       "      <td>11.298542</td>\n",
       "      <td>10.419430</td>\n",
       "      <td>7.336860</td>\n",
       "      <td>6.748059</td>\n",
       "      <td>6.381776</td>\n",
       "      <td>-2.017867</td>\n",
       "      <td>3.545710</td>\n",
       "      <td>Rock</td>\n",
       "    </tr>\n",
       "    <tr>\n",
       "      <th>3</th>\n",
       "      <td>243.66975</td>\n",
       "      <td>0.000</td>\n",
       "      <td>5</td>\n",
       "      <td>0.004</td>\n",
       "      <td>-5.955</td>\n",
       "      <td>1</td>\n",
       "      <td>0.252</td>\n",
       "      <td>236.832</td>\n",
       "      <td>92.471</td>\n",
       "      <td>3</td>\n",
       "      <td>...</td>\n",
       "      <td>-1.522568</td>\n",
       "      <td>-38.959342</td>\n",
       "      <td>3.488617</td>\n",
       "      <td>-20.363588</td>\n",
       "      <td>-1.984596</td>\n",
       "      <td>8.714976</td>\n",
       "      <td>1.564731</td>\n",
       "      <td>0.980308</td>\n",
       "      <td>6.970074</td>\n",
       "      <td>Blues</td>\n",
       "    </tr>\n",
       "    <tr>\n",
       "      <th>4</th>\n",
       "      <td>241.76281</td>\n",
       "      <td>1.013</td>\n",
       "      <td>9</td>\n",
       "      <td>0.000</td>\n",
       "      <td>-4.265</td>\n",
       "      <td>1</td>\n",
       "      <td>0.280</td>\n",
       "      <td>228.223</td>\n",
       "      <td>90.206</td>\n",
       "      <td>4</td>\n",
       "      <td>...</td>\n",
       "      <td>-2.802598</td>\n",
       "      <td>9.080180</td>\n",
       "      <td>-19.506204</td>\n",
       "      <td>5.333402</td>\n",
       "      <td>-3.767534</td>\n",
       "      <td>-1.610557</td>\n",
       "      <td>-5.408886</td>\n",
       "      <td>0.984205</td>\n",
       "      <td>6.117556</td>\n",
       "      <td>Rock</td>\n",
       "    </tr>\n",
       "  </tbody>\n",
       "</table>\n",
       "<p>5 rows × 36 columns</p>\n",
       "</div>"
      ],
      "text/plain": [
       "    duration  end_of_fade_in  key  key_confidence  loudness  mode  \\\n",
       "0  354.48118           2.090    9           0.721    -8.413     1   \n",
       "1  149.94240           0.125    8           0.743    -9.047     1   \n",
       "2  277.36771           0.337    8           0.905    -8.524     1   \n",
       "3  243.66975           0.000    5           0.004    -5.955     1   \n",
       "4  241.76281           1.013    9           0.000    -4.265     1   \n",
       "\n",
       "   mode_confidence  start_of_fade_out    tempo  time_signature   ...    \\\n",
       "0            0.628            344.108  154.238               4   ...     \n",
       "1            0.572            142.861  158.292               4   ...     \n",
       "2            0.742            269.189  115.760               4   ...     \n",
       "3            0.252            236.832   92.471               3   ...     \n",
       "4            0.280            228.223   90.206               4   ...     \n",
       "\n",
       "    timbre_3   timbre_4   timbre_5   timbre_6   timbre_7  timbre_8   timbre_9  \\\n",
       "0 -12.591367 -44.293892  -9.339179   1.056260  -5.776037 -0.371761   1.495389   \n",
       "1  22.914455 -17.480633  17.263987 -17.580544 -17.936875  8.633928 -13.547967   \n",
       "2  13.774541   2.580982  11.298542  10.419430   7.336860  6.748059   6.381776   \n",
       "3  -1.522568 -38.959342   3.488617 -20.363588  -1.984596  8.714976   1.564731   \n",
       "4  -2.802598   9.080180 -19.506204   5.333402  -3.767534 -1.610557  -5.408886   \n",
       "\n",
       "   timbre_10  timbre_11    Tag1  \n",
       "0  -3.848946   3.408958   Metal  \n",
       "1   6.287460  11.251171  Reggae  \n",
       "2  -2.017867   3.545710    Rock  \n",
       "3   0.980308   6.970074   Blues  \n",
       "4   0.984205   6.117556    Rock  \n",
       "\n",
       "[5 rows x 36 columns]"
      ]
     },
     "execution_count": 15,
     "metadata": {},
     "output_type": "execute_result"
    }
   ],
   "source": [
    "df_m.head()"
   ]
  },
  {
   "cell_type": "code",
   "execution_count": 17,
   "metadata": {},
   "outputs": [
    {
     "data": {
      "text/plain": [
       "Index(['duration', 'end_of_fade_in', 'key', 'key_confidence', 'loudness',\n",
       "       'mode', 'mode_confidence', 'start_of_fade_out', 'tempo',\n",
       "       'time_signature', 'time_signature_confidence', 'pitch_0', 'pitch_1',\n",
       "       'pitch_2', 'pitch_3', 'pitch_4', 'pitch_5', 'pitch_6', 'pitch_7',\n",
       "       'pitch_8', 'pitch_9', 'pitch_10', 'pitch_11', 'timbre_0', 'timbre_1',\n",
       "       'timbre_2', 'timbre_3', 'timbre_4', 'timbre_5', 'timbre_6', 'timbre_7',\n",
       "       'timbre_8', 'timbre_9', 'timbre_10', 'timbre_11', 'Tag1'],\n",
       "      dtype='object')"
      ]
     },
     "execution_count": 17,
     "metadata": {},
     "output_type": "execute_result"
    }
   ],
   "source": [
    "df_m.columns"
   ]
  },
  {
   "cell_type": "code",
   "execution_count": 16,
   "metadata": {},
   "outputs": [
    {
     "data": {
      "text/html": [
       "<div>\n",
       "<style scoped>\n",
       "    .dataframe tbody tr th:only-of-type {\n",
       "        vertical-align: middle;\n",
       "    }\n",
       "\n",
       "    .dataframe tbody tr th {\n",
       "        vertical-align: top;\n",
       "    }\n",
       "\n",
       "    .dataframe thead th {\n",
       "        text-align: right;\n",
       "    }\n",
       "</style>\n",
       "<table border=\"1\" class=\"dataframe\">\n",
       "  <thead>\n",
       "    <tr style=\"text-align: right;\">\n",
       "      <th></th>\n",
       "    </tr>\n",
       "  </thead>\n",
       "  <tbody>\n",
       "    <tr>\n",
       "      <th>0</th>\n",
       "    </tr>\n",
       "    <tr>\n",
       "      <th>1</th>\n",
       "    </tr>\n",
       "    <tr>\n",
       "      <th>2</th>\n",
       "    </tr>\n",
       "    <tr>\n",
       "      <th>3</th>\n",
       "    </tr>\n",
       "    <tr>\n",
       "      <th>4</th>\n",
       "    </tr>\n",
       "  </tbody>\n",
       "</table>\n",
       "</div>"
      ],
      "text/plain": [
       "Empty DataFrame\n",
       "Columns: []\n",
       "Index: [0, 1, 2, 3, 4]"
      ]
     },
     "execution_count": 16,
     "metadata": {},
     "output_type": "execute_result"
    }
   ],
   "source": [
    "df_m.loc[:, df_m.isna().any()].head()"
   ]
  },
  {
   "cell_type": "markdown",
   "metadata": {},
   "source": [
    "Since there are no na values, we can proceed with further analytical measures"
   ]
  },
  {
   "cell_type": "code",
   "execution_count": 18,
   "metadata": {},
   "outputs": [
    {
     "data": {
      "text/plain": [
       "15"
      ]
     },
     "execution_count": 18,
     "metadata": {},
     "output_type": "execute_result"
    }
   ],
   "source": [
    "df_m['Tag1'].nunique()"
   ]
  },
  {
   "cell_type": "markdown",
   "metadata": {},
   "source": [
    "Now that we have useable variables. They can be explore"
   ]
  },
  {
   "cell_type": "code",
   "execution_count": 19,
   "metadata": {},
   "outputs": [],
   "source": [
    "import seaborn as sns"
   ]
  },
  {
   "cell_type": "markdown",
   "metadata": {},
   "source": [
    "### Looking at distributions of different values at different categories"
   ]
  },
  {
   "cell_type": "markdown",
   "metadata": {},
   "source": [
    "#### Loudness"
   ]
  },
  {
   "cell_type": "code",
   "execution_count": 20,
   "metadata": {},
   "outputs": [
    {
     "data": {
      "text/plain": [
       "<matplotlib.axes._subplots.AxesSubplot at 0x1a7fbca1438>"
      ]
     },
     "execution_count": 20,
     "metadata": {},
     "output_type": "execute_result"
    },
    {
     "data": {
      "image/png": "[encoded data removed]",
      "text/plain": [
       "<Figure size 864x576 with 1 Axes>"
      ]
     },
     "metadata": {
      "needs_background": "light"
     },
     "output_type": "display_data"
    }
   ],
   "source": [
    "a4_dims = (12, 8)\n",
    "fig, ax = plt.subplots(figsize=a4_dims)\n",
    "sns.boxplot(data=df_m, x='Tag1', y='loudness', ax = ax)"
   ]
  },
  {
   "cell_type": "markdown",
   "metadata": {},
   "source": [
    "#### Duration"
   ]
  },
  {
   "cell_type": "code",
   "execution_count": 21,
   "metadata": {},
   "outputs": [
    {
     "data": {
      "text/plain": [
       "<matplotlib.axes._subplots.AxesSubplot at 0x1a785b78a90>"
      ]
     },
     "execution_count": 21,
     "metadata": {},
     "output_type": "execute_result"
    },
    {
     "data": {
      "image/png": "[encoded data removed]",
      "text/plain": [
       "<Figure size 864x576 with 1 Axes>"
      ]
     },
     "metadata": {
      "needs_background": "light"
     },
     "output_type": "display_data"
    }
   ],
   "source": [
    "a4_dims = (12, 8)\n",
    "fig, ax = plt.subplots(figsize=a4_dims)\n",
    "sns.boxplot(data=df_m, x='Tag1', y='duration', ax = ax)"
   ]
  },
  {
   "cell_type": "markdown",
   "metadata": {},
   "source": [
    "#### start_of_fade_out"
   ]
  },
  {
   "cell_type": "code",
   "execution_count": 22,
   "metadata": {},
   "outputs": [
    {
     "data": {
      "text/plain": [
       "<matplotlib.axes._subplots.AxesSubplot at 0x1a785a76eb8>"
      ]
     },
     "execution_count": 22,
     "metadata": {},
     "output_type": "execute_result"
    },
    {
     "data": {
      "image/png": "[encoded data removed]",
      "text/plain": [
       "<Figure size 864x576 with 1 Axes>"
      ]
     },
     "metadata": {
      "needs_background": "light"
     },
     "output_type": "display_data"
    }
   ],
   "source": [
    "a4_dims = (12, 8)\n",
    "fig, ax = plt.subplots(figsize=a4_dims)\n",
    "sns.boxplot(data=df_m, x='Tag1', y='start_of_fade_out', ax = ax)"
   ]
  },
  {
   "cell_type": "markdown",
   "metadata": {},
   "source": [
    "#### Tempo"
   ]
  },
  {
   "cell_type": "code",
   "execution_count": 23,
   "metadata": {},
   "outputs": [
    {
     "data": {
      "text/plain": [
       "<matplotlib.axes._subplots.AxesSubplot at 0x1a785dfae48>"
      ]
     },
     "execution_count": 23,
     "metadata": {},
     "output_type": "execute_result"
    },
    {
     "data": {
      "image/png": "[encoded data removed]",
      "text/plain": [
       "<Figure size 864x576 with 1 Axes>"
      ]
     },
     "metadata": {
      "needs_background": "light"
     },
     "output_type": "display_data"
    }
   ],
   "source": [
    "a4_dims = (12, 8)\n",
    "fig, ax = plt.subplots(figsize=a4_dims)\n",
    "sns.boxplot(data=df_m, x='Tag1', y='tempo', ax = ax)"
   ]
  },
  {
   "cell_type": "markdown",
   "metadata": {},
   "source": [
    "### Now to visualize the categoricals"
   ]
  },
  {
   "cell_type": "markdown",
   "metadata": {},
   "source": [
    "#### Mode"
   ]
  },
  {
   "cell_type": "code",
   "execution_count": 49,
   "metadata": {},
   "outputs": [],
   "source": [
    "sub = df_m[['mode', 'Tag1']]"
   ]
  },
  {
   "cell_type": "code",
   "execution_count": 50,
   "metadata": {},
   "outputs": [],
   "source": [
    "tally = pd.crosstab(sub['Tag1'],sub['mode'])\n",
    "tally = tally.div(tally.sum(axis = 1), axis=0)"
   ]
  },
  {
   "cell_type": "code",
   "execution_count": 51,
   "metadata": {},
   "outputs": [
    {
     "data": {
      "text/plain": [
       "<matplotlib.axes._subplots.AxesSubplot at 0x1a786ae5160>"
      ]
     },
     "execution_count": 51,
     "metadata": {},
     "output_type": "execute_result"
    },
    {
     "data": {
      "image/png": "[encoded data removed]",
      "text/plain": [
       "<Figure size 432x288 with 2 Axes>"
      ]
     },
     "metadata": {
      "needs_background": "light"
     },
     "output_type": "display_data"
    }
   ],
   "source": [
    "sns.heatmap(tally, cmap=\"YlGnBu\")"
   ]
  },
  {
   "cell_type": "markdown",
   "metadata": {},
   "source": [
    "#### Time Signature"
   ]
  },
  {
   "cell_type": "code",
   "execution_count": 42,
   "metadata": {},
   "outputs": [],
   "source": [
    "sub = df_m[['time_signature', 'Tag1']]"
   ]
  },
  {
   "cell_type": "code",
   "execution_count": 47,
   "metadata": {},
   "outputs": [],
   "source": [
    "tally = pd.crosstab(sub['Tag1'],sub['time_signature'])\n",
    "tally = tally.iloc[:, 1:]\n",
    "tally = tally.div(tally.sum(axis = 1), axis=0)"
   ]
  },
  {
   "cell_type": "code",
   "execution_count": 48,
   "metadata": {},
   "outputs": [
    {
     "data": {
      "text/plain": [
       "<matplotlib.axes._subplots.AxesSubplot at 0x1a786a340f0>"
      ]
     },
     "execution_count": 48,
     "metadata": {},
     "output_type": "execute_result"
    },
    {
     "data": {
      "image/png": "[encoded data removed]",
      "text/plain": [
       "<Figure size 432x288 with 2 Axes>"
      ]
     },
     "metadata": {
      "needs_background": "light"
     },
     "output_type": "display_data"
    }
   ],
   "source": [
    "sns.heatmap(tally, cmap=\"YlGnBu\")"
   ]
  },
  {
   "cell_type": "code",
   "execution_count": 36,
   "metadata": {},
   "outputs": [
    {
     "data": {
      "text/plain": [
       "array([1, 0], dtype=int64)"
      ]
     },
     "execution_count": 36,
     "metadata": {},
     "output_type": "execute_result"
    }
   ],
   "source": [
    "sub['mode'].unique()"
   ]
  },
  {
   "cell_type": "code",
   "execution_count": null,
   "metadata": {},
   "outputs": [],
   "source": []
  }
 ],
 "metadata": {
  "kernelspec": {
   "display_name": "Python 3",
   "language": "python",
   "name": "python3"
  },
  "language_info": {
   "codemirror_mode": {
    "name": "ipython",
    "version": 3
   },
   "file_extension": ".py",
   "mimetype": "text/x-python",
   "name": "python",
   "nbconvert_exporter": "python",
   "pygments_lexer": "ipython3",
   "version": "3.6.6"
  }
 },
 "nbformat": 4,
 "nbformat_minor": 2
}
